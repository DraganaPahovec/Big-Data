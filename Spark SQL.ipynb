{
 "cells": [
  {
   "cell_type": "markdown",
   "metadata": {
    "id": "Qr_p-yram_3F"
   },
   "source": [
    "# Spark SQL "
   ]
  },
  {
   "cell_type": "code",
   "execution_count": 1,
   "metadata": {
    "id": "cIW6nAaUm_3G"
   },
   "outputs": [],
   "source": [
    "from pyspark.sql import SparkSession"
   ]
  },
  {
   "cell_type": "markdown",
   "metadata": {
    "id": "U4m_owH6m_3K"
   },
   "source": [
    "# Enable Hive sync with spark dataframe session"
   ]
  },
  {
   "cell_type": "code",
   "execution_count": 2,
   "metadata": {
    "id": "ZXLiM1aOm_3L"
   },
   "outputs": [],
   "source": [
    "spark_session = SparkSession.builder.enableHiveSupport().appName(\"spark Sql\").master(\"local\").getOrCreate()"
   ]
  },
  {
   "cell_type": "markdown",
   "metadata": {
    "id": "7kbARiu6m_3N"
   },
   "source": [
    "# Show tables in Hive DB  \n",
    "* Using Spark Session"
   ]
  },
  {
   "cell_type": "code",
   "execution_count": 3,
   "metadata": {
    "id": "51IAfrQxm_3O",
    "outputId": "654483fe-1d8a-4757-eb69-5d0b09c16750"
   },
   "outputs": [
    {
     "name": "stdout",
     "output_type": "stream",
     "text": [
      "[Database(name='default', description='Default Hive database', locationUri='hdfs://localhost:9000/user/hive/warehouse'), Database(name='demodb', description='', locationUri='hdfs://localhost:9000/user/brainster/test_metastore'), Database(name='own_database', description='', locationUri='hdfs://localhost:9000/user/jovyan/database_metastore'), Database(name='stackoverflow_', description='', locationUri='hdfs://localhost:9000/user/jovyan/database_metastore'), Database(name='test', description='', locationUri='file:/home/jovyan/spark-warehouse/test.db')]\n"
     ]
    }
   ],
   "source": [
    "dataframe = spark_session.catalog.listDatabases()\n",
    "print(dataframe)"
   ]
  },
  {
   "cell_type": "code",
   "execution_count": 4,
   "metadata": {
    "id": "rzp9vOH2m_3R",
    "outputId": "55646ab5-3a74-4109-ed8f-26afa9fc00bc"
   },
   "outputs": [
    {
     "name": "stdout",
     "output_type": "stream",
     "text": [
      "[Table(name='employee', database='default', description='Employee details', tableType='MANAGED', isTemporary=False), Table(name='employee2', database='default', description='Employee details', tableType='MANAGED', isTemporary=False), Table(name='user_activity', database='default', description='User Activity', tableType='MANAGED', isTemporary=False)]\n"
     ]
    }
   ],
   "source": [
    "listTables = spark_session.catalog.listTables(\"default\")\n",
    "print(listTables)"
   ]
  },
  {
   "cell_type": "markdown",
   "metadata": {
    "id": "nZl2b5IDm_3U"
   },
   "source": [
    "# Get databases info"
   ]
  },
  {
   "cell_type": "code",
   "execution_count": 5,
   "metadata": {
    "id": "1dGfKz4Jm_3U",
    "outputId": "3fe1987d-d779-41b9-94eb-54f6e6f39bff"
   },
   "outputs": [
    {
     "data": {
      "text/html": [
       "<div>\n",
       "<table border=\"1\" class=\"dataframe\">\n",
       "  <thead>\n",
       "    <tr style=\"text-align: right;\">\n",
       "      <th></th>\n",
       "      <th>database</th>\n",
       "      <th>tableName</th>\n",
       "      <th>isTemporary</th>\n",
       "    </tr>\n",
       "  </thead>\n",
       "  <tbody>\n",
       "    <tr>\n",
       "      <th>0</th>\n",
       "      <td>default</td>\n",
       "      <td>employee</td>\n",
       "      <td>False</td>\n",
       "    </tr>\n",
       "    <tr>\n",
       "      <th>1</th>\n",
       "      <td>default</td>\n",
       "      <td>employee2</td>\n",
       "      <td>False</td>\n",
       "    </tr>\n",
       "    <tr>\n",
       "      <th>2</th>\n",
       "      <td>default</td>\n",
       "      <td>user_activity</td>\n",
       "      <td>False</td>\n",
       "    </tr>\n",
       "  </tbody>\n",
       "</table>\n",
       "</div>"
      ],
      "text/plain": [
       "  database      tableName isTemporary\n",
       "0  default       employee       False\n",
       "1  default      employee2       False\n",
       "2  default  user_activity       False"
      ]
     },
     "execution_count": 5,
     "metadata": {},
     "output_type": "execute_result"
    }
   ],
   "source": [
    "spark_session.sql(\"\"\"show tables in default\"\"\").toPandas()"
   ]
  },
  {
   "cell_type": "markdown",
   "metadata": {
    "id": "6Ome0V_5m_3X"
   },
   "source": [
    "# Show user_activity table info"
   ]
  },
  {
   "cell_type": "code",
   "execution_count": 6,
   "metadata": {
    "id": "j0KUv1uYm_3X",
    "outputId": "65b3941e-1854-40c1-d68a-93731a9e41f3"
   },
   "outputs": [
    {
     "data": {
      "text/html": [
       "<div>\n",
       "<table border=\"1\" class=\"dataframe\">\n",
       "  <thead>\n",
       "    <tr style=\"text-align: right;\">\n",
       "      <th></th>\n",
       "      <th>col_name</th>\n",
       "      <th>data_type</th>\n",
       "      <th>comment</th>\n",
       "    </tr>\n",
       "  </thead>\n",
       "  <tbody>\n",
       "    <tr>\n",
       "      <th>0</th>\n",
       "      <td>first_name</td>\n",
       "      <td>string</td>\n",
       "      <td>None</td>\n",
       "    </tr>\n",
       "    <tr>\n",
       "      <th>1</th>\n",
       "      <td>last_name</td>\n",
       "      <td>string</td>\n",
       "      <td>None</td>\n",
       "    </tr>\n",
       "    <tr>\n",
       "      <th>2</th>\n",
       "      <td>email</td>\n",
       "      <td>string</td>\n",
       "      <td>None</td>\n",
       "    </tr>\n",
       "    <tr>\n",
       "      <th>3</th>\n",
       "      <td>gender</td>\n",
       "      <td>string</td>\n",
       "      <td>None</td>\n",
       "    </tr>\n",
       "    <tr>\n",
       "      <th>4</th>\n",
       "      <td>ip_adress</td>\n",
       "      <td>string</td>\n",
       "      <td>None</td>\n",
       "    </tr>\n",
       "    <tr>\n",
       "      <th>5</th>\n",
       "      <td>company_name</td>\n",
       "      <td>string</td>\n",
       "      <td>None</td>\n",
       "    </tr>\n",
       "    <tr>\n",
       "      <th>6</th>\n",
       "      <td>purchase_ammount</td>\n",
       "      <td>int</td>\n",
       "      <td>None</td>\n",
       "    </tr>\n",
       "    <tr>\n",
       "      <th>7</th>\n",
       "      <td>job_title</td>\n",
       "      <td>string</td>\n",
       "      <td>None</td>\n",
       "    </tr>\n",
       "    <tr>\n",
       "      <th>8</th>\n",
       "      <td>user_agent</td>\n",
       "      <td>string</td>\n",
       "      <td>None</td>\n",
       "    </tr>\n",
       "  </tbody>\n",
       "</table>\n",
       "</div>"
      ],
      "text/plain": [
       "           col_name data_type comment\n",
       "0        first_name    string    None\n",
       "1         last_name    string    None\n",
       "2             email    string    None\n",
       "3            gender    string    None\n",
       "4         ip_adress    string    None\n",
       "5      company_name    string    None\n",
       "6  purchase_ammount       int    None\n",
       "7         job_title    string    None\n",
       "8        user_agent    string    None"
      ]
     },
     "execution_count": 6,
     "metadata": {},
     "output_type": "execute_result"
    }
   ],
   "source": [
    "spark_session.sql(\"\"\"describe default.user_activity\"\"\").toPandas()"
   ]
  },
  {
   "cell_type": "markdown",
   "metadata": {
    "id": "qw2rdYwlm_3a"
   },
   "source": [
    "# Read Table into Spark Dataframe (distributed collection of data)"
   ]
  },
  {
   "cell_type": "code",
   "execution_count": 7,
   "metadata": {
    "id": "OZQRUrcOm_3b",
    "outputId": "fecbd39e-1c3f-4799-a4e1-3b9b0ac31ac0"
   },
   "outputs": [
    {
     "data": {
      "text/html": [
       "<div>\n",
       "<table border=\"1\" class=\"dataframe\">\n",
       "  <thead>\n",
       "    <tr style=\"text-align: right;\">\n",
       "      <th></th>\n",
       "      <th>first_name</th>\n",
       "      <th>last_name</th>\n",
       "      <th>email</th>\n",
       "      <th>gender</th>\n",
       "      <th>ip_adress</th>\n",
       "      <th>company_name</th>\n",
       "      <th>purchase_ammount</th>\n",
       "      <th>job_title</th>\n",
       "      <th>user_agent</th>\n",
       "    </tr>\n",
       "  </thead>\n",
       "  <tbody>\n",
       "    <tr>\n",
       "      <th>0</th>\n",
       "      <td>Amandi</td>\n",
       "      <td>Gibbetts</td>\n",
       "      <td>agibbetts0@live.com</td>\n",
       "      <td>Female</td>\n",
       "      <td>39.231.192.239</td>\n",
       "      <td>Brainlounge</td>\n",
       "      <td>81</td>\n",
       "      <td>JCR</td>\n",
       "      <td>\"Mozilla/5.0 (Macintosh; Intel Mac OS X 10_6_8...</td>\n",
       "    </tr>\n",
       "    <tr>\n",
       "      <th>1</th>\n",
       "      <td>Mathew</td>\n",
       "      <td>Michin</td>\n",
       "      <td>mmichin1@bloglovin.com</td>\n",
       "      <td>Male</td>\n",
       "      <td>115.35.31.40</td>\n",
       "      <td>Mydo</td>\n",
       "      <td>789</td>\n",
       "      <td>Dell KACE</td>\n",
       "      <td>\"Mozilla/5.0 (Macintosh; U; PPC Mac OS X 10_5_...</td>\n",
       "    </tr>\n",
       "    <tr>\n",
       "      <th>2</th>\n",
       "      <td>Omero</td>\n",
       "      <td>Petrina</td>\n",
       "      <td>opetrina2@ycombinator.com</td>\n",
       "      <td>Male</td>\n",
       "      <td>42.43.198.154</td>\n",
       "      <td>Agivu</td>\n",
       "      <td>703</td>\n",
       "      <td>HP Service Manager</td>\n",
       "      <td>\"Mozilla/5.0 (X11; Linux i686) AppleWebKit/535...</td>\n",
       "    </tr>\n",
       "    <tr>\n",
       "      <th>3</th>\n",
       "      <td>Clevey</td>\n",
       "      <td>Jesse</td>\n",
       "      <td>cjesse3@reverbnation.com</td>\n",
       "      <td>Male</td>\n",
       "      <td>99.233.153.203</td>\n",
       "      <td>Chatterbridge</td>\n",
       "      <td>740</td>\n",
       "      <td>Bioinformatics</td>\n",
       "      <td>\"Mozilla/5.0 (Windows NT 6.1; WOW64) AppleWebK...</td>\n",
       "    </tr>\n",
       "    <tr>\n",
       "      <th>4</th>\n",
       "      <td>Wit</td>\n",
       "      <td>Gent</td>\n",
       "      <td>wgent4@earthlink.net</td>\n",
       "      <td>Male</td>\n",
       "      <td>235.73.119.127</td>\n",
       "      <td>Zoomlounge</td>\n",
       "      <td>657</td>\n",
       "      <td>Procurement Outsourcing</td>\n",
       "      <td>\"Mozilla/5.0 (Windows NT 6.1) AppleWebKit/537....</td>\n",
       "    </tr>\n",
       "  </tbody>\n",
       "</table>\n",
       "</div>"
      ],
      "text/plain": [
       "  first_name last_name                      email  gender       ip_adress  \\\n",
       "0     Amandi  Gibbetts        agibbetts0@live.com  Female  39.231.192.239   \n",
       "1     Mathew    Michin     mmichin1@bloglovin.com    Male    115.35.31.40   \n",
       "2      Omero   Petrina  opetrina2@ycombinator.com    Male   42.43.198.154   \n",
       "3     Clevey     Jesse   cjesse3@reverbnation.com    Male  99.233.153.203   \n",
       "4        Wit      Gent       wgent4@earthlink.net    Male  235.73.119.127   \n",
       "\n",
       "    company_name  purchase_ammount                job_title  \\\n",
       "0    Brainlounge                81                      JCR   \n",
       "1           Mydo               789                Dell KACE   \n",
       "2          Agivu               703       HP Service Manager   \n",
       "3  Chatterbridge               740           Bioinformatics   \n",
       "4     Zoomlounge               657  Procurement Outsourcing   \n",
       "\n",
       "                                          user_agent  \n",
       "0  \"Mozilla/5.0 (Macintosh; Intel Mac OS X 10_6_8...  \n",
       "1  \"Mozilla/5.0 (Macintosh; U; PPC Mac OS X 10_5_...  \n",
       "2  \"Mozilla/5.0 (X11; Linux i686) AppleWebKit/535...  \n",
       "3  \"Mozilla/5.0 (Windows NT 6.1; WOW64) AppleWebK...  \n",
       "4  \"Mozilla/5.0 (Windows NT 6.1) AppleWebKit/537....  "
      ]
     },
     "execution_count": 7,
     "metadata": {},
     "output_type": "execute_result"
    }
   ],
   "source": [
    "dataframe = spark_session.read.table(\"default.user_activity\")\n",
    "\n",
    "dataframe.toPandas().head()"
   ]
  },
  {
   "cell_type": "markdown",
   "metadata": {
    "id": "mbJP4Rxcm_3d"
   },
   "source": [
    "# Query 1 :\n",
    "\n",
    "Show total purchase ammount sum (Income)"
   ]
  },
  {
   "cell_type": "code",
   "execution_count": 8,
   "metadata": {},
   "outputs": [],
   "source": [
    "import pyspark.sql.functions as f"
   ]
  },
  {
   "cell_type": "code",
   "execution_count": 9,
   "metadata": {
    "id": "xuSOrI9Mm_3e"
   },
   "outputs": [
    {
     "data": {
      "text/html": [
       "<div>\n",
       "<table border=\"1\" class=\"dataframe\">\n",
       "  <thead>\n",
       "    <tr style=\"text-align: right;\">\n",
       "      <th></th>\n",
       "      <th>company_name</th>\n",
       "      <th>sum_purchase</th>\n",
       "    </tr>\n",
       "  </thead>\n",
       "  <tbody>\n",
       "    <tr>\n",
       "      <th>0</th>\n",
       "      <td>Katz</td>\n",
       "      <td>14383</td>\n",
       "    </tr>\n",
       "    <tr>\n",
       "      <th>1</th>\n",
       "      <td>Livetube</td>\n",
       "      <td>11823</td>\n",
       "    </tr>\n",
       "    <tr>\n",
       "      <th>2</th>\n",
       "      <td>Skimia</td>\n",
       "      <td>10171</td>\n",
       "    </tr>\n",
       "    <tr>\n",
       "      <th>3</th>\n",
       "      <td>Thoughtstorm</td>\n",
       "      <td>9763</td>\n",
       "    </tr>\n",
       "    <tr>\n",
       "      <th>4</th>\n",
       "      <td>Quatz</td>\n",
       "      <td>9580</td>\n",
       "    </tr>\n",
       "  </tbody>\n",
       "</table>\n",
       "</div>"
      ],
      "text/plain": [
       "   company_name  sum_purchase\n",
       "0          Katz         14383\n",
       "1      Livetube         11823\n",
       "2        Skimia         10171\n",
       "3  Thoughtstorm          9763\n",
       "4         Quatz          9580"
      ]
     },
     "execution_count": 9,
     "metadata": {},
     "output_type": "execute_result"
    }
   ],
   "source": [
    "purchase_sum = dataframe.groupBy(dataframe.company_name)\\\n",
    ".agg(f.sum(dataframe.purchase_ammount).alias(\"sum_purchase\"))\\\n",
    ".orderBy(\"sum_purchase\", ascending=False).limit(5)\n",
    "purchase_sum.toPandas()"
   ]
  },
  {
   "cell_type": "code",
   "execution_count": 10,
   "metadata": {},
   "outputs": [
    {
     "data": {
      "text/html": [
       "<div>\n",
       "<table border=\"1\" class=\"dataframe\">\n",
       "  <thead>\n",
       "    <tr style=\"text-align: right;\">\n",
       "      <th></th>\n",
       "      <th>sum_purchase</th>\n",
       "    </tr>\n",
       "  </thead>\n",
       "  <tbody>\n",
       "    <tr>\n",
       "      <th>0</th>\n",
       "      <td>1580183</td>\n",
       "    </tr>\n",
       "  </tbody>\n",
       "</table>\n",
       "</div>"
      ],
      "text/plain": [
       "   sum_purchase\n",
       "0       1580183"
      ]
     },
     "execution_count": 10,
     "metadata": {},
     "output_type": "execute_result"
    }
   ],
   "source": [
    "purchase_sum = dataframe.agg(f.sum(dataframe.purchase_ammount).alias(\"sum_purchase\"))\\\n",
    ".orderBy(\"sum_purchase\", ascending=False).limit(5)\n",
    "purchase_sum.toPandas()"
   ]
  },
  {
   "cell_type": "markdown",
   "metadata": {
    "id": "gNDht1_Sm_3g"
   },
   "source": [
    "# Query 2 : \n",
    "\n",
    "Count distinct First Name users from the dataset"
   ]
  },
  {
   "cell_type": "code",
   "execution_count": 11,
   "metadata": {
    "id": "ff0SpTezm_3g"
   },
   "outputs": [
    {
     "data": {
      "text/html": [
       "<div>\n",
       "<table border=\"1\" class=\"dataframe\">\n",
       "  <thead>\n",
       "    <tr style=\"text-align: right;\">\n",
       "      <th></th>\n",
       "      <th>first_name</th>\n",
       "      <th>distinct_first_name</th>\n",
       "    </tr>\n",
       "  </thead>\n",
       "  <tbody>\n",
       "    <tr>\n",
       "      <th>0</th>\n",
       "      <td>Aldric</td>\n",
       "      <td>1</td>\n",
       "    </tr>\n",
       "    <tr>\n",
       "      <th>1</th>\n",
       "      <td>Guendolen</td>\n",
       "      <td>1</td>\n",
       "    </tr>\n",
       "    <tr>\n",
       "      <th>2</th>\n",
       "      <td>Juliette</td>\n",
       "      <td>1</td>\n",
       "    </tr>\n",
       "    <tr>\n",
       "      <th>3</th>\n",
       "      <td>Hastie</td>\n",
       "      <td>1</td>\n",
       "    </tr>\n",
       "    <tr>\n",
       "      <th>4</th>\n",
       "      <td>Lars</td>\n",
       "      <td>1</td>\n",
       "    </tr>\n",
       "  </tbody>\n",
       "</table>\n",
       "</div>"
      ],
      "text/plain": [
       "  first_name  distinct_first_name\n",
       "0     Aldric                    1\n",
       "1  Guendolen                    1\n",
       "2   Juliette                    1\n",
       "3     Hastie                    1\n",
       "4       Lars                    1"
      ]
     },
     "execution_count": 11,
     "metadata": {},
     "output_type": "execute_result"
    }
   ],
   "source": [
    "distinct_names = dataframe.groupBy('first_name')\\\n",
    ".agg(f.countDistinct(\"first_name\").alias(\"distinct_first_name\"))\\\n",
    ".orderBy(\"distinct_first_name\", ascending=False)\\\n",
    "\n",
    "distinct_names.limit(5).toPandas()"
   ]
  },
  {
   "cell_type": "code",
   "execution_count": 12,
   "metadata": {},
   "outputs": [
    {
     "data": {
      "text/html": [
       "<div>\n",
       "<table border=\"1\" class=\"dataframe\">\n",
       "  <thead>\n",
       "    <tr style=\"text-align: right;\">\n",
       "      <th></th>\n",
       "      <th>total_distinct_first_names</th>\n",
       "    </tr>\n",
       "  </thead>\n",
       "  <tbody>\n",
       "    <tr>\n",
       "      <th>0</th>\n",
       "      <td>2492</td>\n",
       "    </tr>\n",
       "  </tbody>\n",
       "</table>\n",
       "</div>"
      ],
      "text/plain": [
       "   total_distinct_first_names\n",
       "0                        2492"
      ]
     },
     "execution_count": 12,
     "metadata": {},
     "output_type": "execute_result"
    }
   ],
   "source": [
    "total = distinct_names.agg(f.count(distinct_names.first_name)\\\n",
    "                .alias(\"total_distinct_first_names\"))\n",
    "    \n",
    "total.toPandas()"
   ]
  },
  {
   "cell_type": "markdown",
   "metadata": {
    "id": "1Ud12S0km_3j"
   },
   "source": [
    "# Query 3 :\n",
    "Display total sum of purchase ammout from users with job title : ML"
   ]
  },
  {
   "cell_type": "code",
   "execution_count": 13,
   "metadata": {},
   "outputs": [
    {
     "data": {
      "text/html": [
       "<div>\n",
       "<table border=\"1\" class=\"dataframe\">\n",
       "  <thead>\n",
       "    <tr style=\"text-align: right;\">\n",
       "      <th></th>\n",
       "      <th>sum(purchase_ammount)</th>\n",
       "    </tr>\n",
       "  </thead>\n",
       "  <tbody>\n",
       "    <tr>\n",
       "      <th>0</th>\n",
       "      <td>1580183</td>\n",
       "    </tr>\n",
       "  </tbody>\n",
       "</table>\n",
       "</div>"
      ],
      "text/plain": [
       "   sum(purchase_ammount)\n",
       "0                1580183"
      ]
     },
     "execution_count": 13,
     "metadata": {},
     "output_type": "execute_result"
    }
   ],
   "source": [
    "dataframe.agg(f.sum(dataframe.purchase_ammount)).toPandas()"
   ]
  },
  {
   "cell_type": "code",
   "execution_count": 14,
   "metadata": {},
   "outputs": [
    {
     "data": {
      "text/html": [
       "<div>\n",
       "<table border=\"1\" class=\"dataframe\">\n",
       "  <thead>\n",
       "    <tr style=\"text-align: right;\">\n",
       "      <th></th>\n",
       "      <th>first_name</th>\n",
       "      <th>last_name</th>\n",
       "      <th>email</th>\n",
       "      <th>gender</th>\n",
       "      <th>ip_adress</th>\n",
       "      <th>company_name</th>\n",
       "      <th>purchase_ammount</th>\n",
       "      <th>job_title</th>\n",
       "      <th>user_agent</th>\n",
       "    </tr>\n",
       "  </thead>\n",
       "  <tbody>\n",
       "    <tr>\n",
       "      <th>0</th>\n",
       "      <td>Seth</td>\n",
       "      <td>Frantsev</td>\n",
       "      <td>sfrantsevaw@guardian.co.uk</td>\n",
       "      <td>Male</td>\n",
       "      <td>13.7.163.159</td>\n",
       "      <td>Mybuzz</td>\n",
       "      <td>503</td>\n",
       "      <td>ML</td>\n",
       "      <td>\"Mozilla/5.0 (Macintosh; Intel Mac OS X 10_9_2...</td>\n",
       "    </tr>\n",
       "    <tr>\n",
       "      <th>1</th>\n",
       "      <td>Issi</td>\n",
       "      <td>Lindstedt</td>\n",
       "      <td>ilindstedt3i@barnesandnoble.com</td>\n",
       "      <td>Female</td>\n",
       "      <td>87.8.250.93</td>\n",
       "      <td>Tanoodle</td>\n",
       "      <td>144</td>\n",
       "      <td>ML</td>\n",
       "      <td>\"Mozilla/5.0 (Macintosh; Intel Mac OS X 10_9_3...</td>\n",
       "    </tr>\n",
       "    <tr>\n",
       "      <th>2</th>\n",
       "      <td>Dame</td>\n",
       "      <td>Scurfield</td>\n",
       "      <td>dscurfieldik@state.gov</td>\n",
       "      <td>Male</td>\n",
       "      <td>181.37.108.31</td>\n",
       "      <td>Babblestorm</td>\n",
       "      <td>327</td>\n",
       "      <td>ML</td>\n",
       "      <td>\"Mozilla/5.0 (Macintosh; Intel Mac OS X 10_6_8...</td>\n",
       "    </tr>\n",
       "  </tbody>\n",
       "</table>\n",
       "</div>"
      ],
      "text/plain": [
       "  first_name  last_name                            email  gender  \\\n",
       "0       Seth   Frantsev       sfrantsevaw@guardian.co.uk    Male   \n",
       "1       Issi  Lindstedt  ilindstedt3i@barnesandnoble.com  Female   \n",
       "2       Dame  Scurfield           dscurfieldik@state.gov    Male   \n",
       "\n",
       "       ip_adress company_name  purchase_ammount job_title  \\\n",
       "0   13.7.163.159       Mybuzz               503        ML   \n",
       "1    87.8.250.93     Tanoodle               144        ML   \n",
       "2  181.37.108.31  Babblestorm               327        ML   \n",
       "\n",
       "                                          user_agent  \n",
       "0  \"Mozilla/5.0 (Macintosh; Intel Mac OS X 10_9_2...  \n",
       "1  \"Mozilla/5.0 (Macintosh; Intel Mac OS X 10_9_3...  \n",
       "2  \"Mozilla/5.0 (Macintosh; Intel Mac OS X 10_6_8...  "
      ]
     },
     "execution_count": 14,
     "metadata": {},
     "output_type": "execute_result"
    }
   ],
   "source": [
    "dataframe.where(dataframe.job_title == 'ML').limit(3).toPandas()"
   ]
  },
  {
   "cell_type": "code",
   "execution_count": 15,
   "metadata": {},
   "outputs": [
    {
     "data": {
      "text/html": [
       "<div>\n",
       "<table border=\"1\" class=\"dataframe\">\n",
       "  <thead>\n",
       "    <tr style=\"text-align: right;\">\n",
       "      <th></th>\n",
       "      <th>job_title</th>\n",
       "      <th>sum(purchase_ammount)</th>\n",
       "    </tr>\n",
       "  </thead>\n",
       "  <tbody>\n",
       "    <tr>\n",
       "      <th>0</th>\n",
       "      <td>ML</td>\n",
       "      <td>974</td>\n",
       "    </tr>\n",
       "  </tbody>\n",
       "</table>\n",
       "</div>"
      ],
      "text/plain": [
       "  job_title  sum(purchase_ammount)\n",
       "0        ML                    974"
      ]
     },
     "execution_count": 15,
     "metadata": {},
     "output_type": "execute_result"
    }
   ],
   "source": [
    "dataframe.groupBy(\"job_title\")\\\n",
    ".agg(f.sum(\"purchase_ammount\"))\\\n",
    ".where(dataframe.job_title == 'ML').toPandas()"
   ]
  },
  {
   "cell_type": "markdown",
   "metadata": {
    "id": "AbVSzmfOm_3l"
   },
   "source": [
    "# Query 4 : \n",
    "\n",
    "Display the total sum of purchase ammout from all users that use Macintosh"
   ]
  },
  {
   "cell_type": "code",
   "execution_count": 16,
   "metadata": {},
   "outputs": [],
   "source": [
    "# macintosh_users=dataframe.groupBy(\"user_agent\",'purchase_ammount')\\\n",
    "# .agg(f.sum(\"purchase_ammount\").alias('sum'))\\\n",
    "# .where((dataframe.user_agent.like('%Macintosh%')))\\\n",
    "# .orderBy(\"sum\", ascending=False)\\\n",
    "# .limit(5).toPandas()"
   ]
  },
  {
   "cell_type": "code",
   "execution_count": 17,
   "metadata": {},
   "outputs": [
    {
     "data": {
      "text/html": [
       "<div>\n",
       "<table border=\"1\" class=\"dataframe\">\n",
       "  <thead>\n",
       "    <tr style=\"text-align: right;\">\n",
       "      <th></th>\n",
       "      <th>user_agent</th>\n",
       "      <th>purchase_ammount</th>\n",
       "    </tr>\n",
       "  </thead>\n",
       "  <tbody>\n",
       "    <tr>\n",
       "      <th>0</th>\n",
       "      <td>\"Mozilla/5.0 (Macintosh; Intel Mac OS X 10_6_8...</td>\n",
       "      <td>81</td>\n",
       "    </tr>\n",
       "    <tr>\n",
       "      <th>1</th>\n",
       "      <td>\"Mozilla/5.0 (Macintosh; U; PPC Mac OS X 10_5_...</td>\n",
       "      <td>789</td>\n",
       "    </tr>\n",
       "    <tr>\n",
       "      <th>2</th>\n",
       "      <td>\"Mozilla/5.0 (X11; Linux i686) AppleWebKit/535...</td>\n",
       "      <td>703</td>\n",
       "    </tr>\n",
       "    <tr>\n",
       "      <th>3</th>\n",
       "      <td>\"Mozilla/5.0 (Windows NT 6.1; WOW64) AppleWebK...</td>\n",
       "      <td>740</td>\n",
       "    </tr>\n",
       "    <tr>\n",
       "      <th>4</th>\n",
       "      <td>\"Mozilla/5.0 (Windows NT 6.1) AppleWebKit/537....</td>\n",
       "      <td>657</td>\n",
       "    </tr>\n",
       "  </tbody>\n",
       "</table>\n",
       "</div>"
      ],
      "text/plain": [
       "                                          user_agent  purchase_ammount\n",
       "0  \"Mozilla/5.0 (Macintosh; Intel Mac OS X 10_6_8...                81\n",
       "1  \"Mozilla/5.0 (Macintosh; U; PPC Mac OS X 10_5_...               789\n",
       "2  \"Mozilla/5.0 (X11; Linux i686) AppleWebKit/535...               703\n",
       "3  \"Mozilla/5.0 (Windows NT 6.1; WOW64) AppleWebK...               740\n",
       "4  \"Mozilla/5.0 (Windows NT 6.1) AppleWebKit/537....               657"
      ]
     },
     "execution_count": 17,
     "metadata": {},
     "output_type": "execute_result"
    }
   ],
   "source": [
    "all_users = dataframe[['user_agent', 'purchase_ammount']]\n",
    "all_users.toPandas().head(5)"
   ]
  },
  {
   "cell_type": "code",
   "execution_count": 18,
   "metadata": {},
   "outputs": [
    {
     "data": {
      "text/html": [
       "<div>\n",
       "<table border=\"1\" class=\"dataframe\">\n",
       "  <thead>\n",
       "    <tr style=\"text-align: right;\">\n",
       "      <th></th>\n",
       "      <th>user_agent</th>\n",
       "      <th>purchase_ammount</th>\n",
       "    </tr>\n",
       "  </thead>\n",
       "  <tbody>\n",
       "    <tr>\n",
       "      <th>0</th>\n",
       "      <td>\"Mozilla/5.0 (Macintosh; Intel Mac OS X 10_6_8...</td>\n",
       "      <td>81</td>\n",
       "    </tr>\n",
       "    <tr>\n",
       "      <th>1</th>\n",
       "      <td>\"Mozilla/5.0 (Macintosh; U; PPC Mac OS X 10_5_...</td>\n",
       "      <td>789</td>\n",
       "    </tr>\n",
       "    <tr>\n",
       "      <th>2</th>\n",
       "      <td>\"Mozilla/5.0 (Macintosh; Intel Mac OS X 10_6_2...</td>\n",
       "      <td>795</td>\n",
       "    </tr>\n",
       "    <tr>\n",
       "      <th>3</th>\n",
       "      <td>\"Mozilla/5.0 (Macintosh; Intel Mac OS X 10_6_2...</td>\n",
       "      <td>921</td>\n",
       "    </tr>\n",
       "    <tr>\n",
       "      <th>4</th>\n",
       "      <td>\"Mozilla/5.0 (Macintosh; U; Intel Mac OS X 10_...</td>\n",
       "      <td>518</td>\n",
       "    </tr>\n",
       "  </tbody>\n",
       "</table>\n",
       "</div>"
      ],
      "text/plain": [
       "                                          user_agent  purchase_ammount\n",
       "0  \"Mozilla/5.0 (Macintosh; Intel Mac OS X 10_6_8...                81\n",
       "1  \"Mozilla/5.0 (Macintosh; U; PPC Mac OS X 10_5_...               789\n",
       "2  \"Mozilla/5.0 (Macintosh; Intel Mac OS X 10_6_2...               795\n",
       "3  \"Mozilla/5.0 (Macintosh; Intel Mac OS X 10_6_2...               921\n",
       "4  \"Mozilla/5.0 (Macintosh; U; Intel Mac OS X 10_...               518"
      ]
     },
     "execution_count": 18,
     "metadata": {},
     "output_type": "execute_result"
    }
   ],
   "source": [
    "mac_users = all_users.filter(all_users.user_agent.like('%Macintosh%'))\n",
    "mac_users.toPandas().head(5)"
   ]
  },
  {
   "cell_type": "code",
   "execution_count": 19,
   "metadata": {},
   "outputs": [
    {
     "data": {
      "text/html": [
       "<div>\n",
       "<table border=\"1\" class=\"dataframe\">\n",
       "  <thead>\n",
       "    <tr style=\"text-align: right;\">\n",
       "      <th></th>\n",
       "      <th>mac_sum_purchase</th>\n",
       "    </tr>\n",
       "  </thead>\n",
       "  <tbody>\n",
       "    <tr>\n",
       "      <th>0</th>\n",
       "      <td>390623</td>\n",
       "    </tr>\n",
       "  </tbody>\n",
       "</table>\n",
       "</div>"
      ],
      "text/plain": [
       "   mac_sum_purchase\n",
       "0            390623"
      ]
     },
     "execution_count": 19,
     "metadata": {},
     "output_type": "execute_result"
    }
   ],
   "source": [
    "mac_sum_purchase = mac_users.agg(f.sum(mac_users.purchase_ammount)\\\n",
    "                                    .alias(\"mac_sum_purchase\"))\n",
    "\n",
    "mac_sum_purchase.toPandas()"
   ]
  },
  {
   "cell_type": "markdown",
   "metadata": {
    "id": "8FhbSvkPm_3o"
   },
   "source": [
    "# Query 5 : \n",
    "\n",
    "Display the first 10 most used email operators from the female user activity\n",
    "* Example of email opeartor : yahoo.com"
   ]
  },
  {
   "cell_type": "code",
   "execution_count": 20,
   "metadata": {},
   "outputs": [
    {
     "data": {
      "text/html": [
       "<div>\n",
       "<table border=\"1\" class=\"dataframe\">\n",
       "  <thead>\n",
       "    <tr style=\"text-align: right;\">\n",
       "      <th></th>\n",
       "      <th>gender</th>\n",
       "      <th>count(DISTINCT gender)</th>\n",
       "    </tr>\n",
       "  </thead>\n",
       "  <tbody>\n",
       "    <tr>\n",
       "      <th>0</th>\n",
       "      <td>Female</td>\n",
       "      <td>1</td>\n",
       "    </tr>\n",
       "    <tr>\n",
       "      <th>1</th>\n",
       "      <td>Male</td>\n",
       "      <td>1</td>\n",
       "    </tr>\n",
       "  </tbody>\n",
       "</table>\n",
       "</div>"
      ],
      "text/plain": [
       "   gender  count(DISTINCT gender)\n",
       "0  Female                       1\n",
       "1    Male                       1"
      ]
     },
     "execution_count": 20,
     "metadata": {},
     "output_type": "execute_result"
    }
   ],
   "source": [
    "#how many gender there are\n",
    "dataframe.groupBy(\"gender\")\\\n",
    ".agg(f.countDistinct(\"gender\"))\\\n",
    ".toPandas()"
   ]
  },
  {
   "cell_type": "code",
   "execution_count": 21,
   "metadata": {},
   "outputs": [
    {
     "data": {
      "text/html": [
       "<div>\n",
       "<table border=\"1\" class=\"dataframe\">\n",
       "  <thead>\n",
       "    <tr style=\"text-align: right;\">\n",
       "      <th></th>\n",
       "      <th>first_name</th>\n",
       "      <th>last_name</th>\n",
       "      <th>email</th>\n",
       "      <th>gender</th>\n",
       "      <th>ip_adress</th>\n",
       "      <th>company_name</th>\n",
       "      <th>purchase_ammount</th>\n",
       "      <th>job_title</th>\n",
       "      <th>user_agent</th>\n",
       "    </tr>\n",
       "  </thead>\n",
       "  <tbody>\n",
       "    <tr>\n",
       "      <th>0</th>\n",
       "      <td>Amandi</td>\n",
       "      <td>Gibbetts</td>\n",
       "      <td>agibbetts0@live.com</td>\n",
       "      <td>Female</td>\n",
       "      <td>39.231.192.239</td>\n",
       "      <td>Brainlounge</td>\n",
       "      <td>81</td>\n",
       "      <td>JCR</td>\n",
       "      <td>\"Mozilla/5.0 (Macintosh; Intel Mac OS X 10_6_8...</td>\n",
       "    </tr>\n",
       "    <tr>\n",
       "      <th>1</th>\n",
       "      <td>Wilie</td>\n",
       "      <td>Ruf</td>\n",
       "      <td>wruf5@independent.co.uk</td>\n",
       "      <td>Female</td>\n",
       "      <td>55.42.108.22</td>\n",
       "      <td>Flipbug</td>\n",
       "      <td>250</td>\n",
       "      <td>Life Insurance</td>\n",
       "      <td>\"Mozilla/5.0 (Windows; U; Windows NT 6.0; hu-H...</td>\n",
       "    </tr>\n",
       "    <tr>\n",
       "      <th>2</th>\n",
       "      <td>Doretta</td>\n",
       "      <td>Dacey</td>\n",
       "      <td>ddacey6@unc.edu</td>\n",
       "      <td>Female</td>\n",
       "      <td>97.1.82.214</td>\n",
       "      <td>BlogXS</td>\n",
       "      <td>787</td>\n",
       "      <td>HR Strategy</td>\n",
       "      <td>\"Mozilla/5.0 (Windows; U; Windows NT 6.1) Appl...</td>\n",
       "    </tr>\n",
       "    <tr>\n",
       "      <th>3</th>\n",
       "      <td>Kalina</td>\n",
       "      <td>Calow</td>\n",
       "      <td>kcalow8@ezinearticles.com</td>\n",
       "      <td>Female</td>\n",
       "      <td>2.250.236.9</td>\n",
       "      <td>Avaveo</td>\n",
       "      <td>795</td>\n",
       "      <td>Knowledge Management</td>\n",
       "      <td>\"Mozilla/5.0 (Macintosh; Intel Mac OS X 10_6_2...</td>\n",
       "    </tr>\n",
       "    <tr>\n",
       "      <th>4</th>\n",
       "      <td>Doe</td>\n",
       "      <td>Grunwald</td>\n",
       "      <td>dgrunwald9@si.edu</td>\n",
       "      <td>Female</td>\n",
       "      <td>186.86.58.133</td>\n",
       "      <td>Shuffledrive</td>\n",
       "      <td>997</td>\n",
       "      <td>Hand-drawn Typography</td>\n",
       "      <td>\"Mozilla/5.0 (X11; Linux i686) AppleWebKit/534...</td>\n",
       "    </tr>\n",
       "  </tbody>\n",
       "</table>\n",
       "</div>"
      ],
      "text/plain": [
       "  first_name last_name                      email  gender       ip_adress  \\\n",
       "0     Amandi  Gibbetts        agibbetts0@live.com  Female  39.231.192.239   \n",
       "1      Wilie       Ruf    wruf5@independent.co.uk  Female    55.42.108.22   \n",
       "2    Doretta     Dacey            ddacey6@unc.edu  Female     97.1.82.214   \n",
       "3     Kalina     Calow  kcalow8@ezinearticles.com  Female     2.250.236.9   \n",
       "4        Doe  Grunwald          dgrunwald9@si.edu  Female   186.86.58.133   \n",
       "\n",
       "   company_name  purchase_ammount              job_title  \\\n",
       "0   Brainlounge                81                    JCR   \n",
       "1       Flipbug               250         Life Insurance   \n",
       "2        BlogXS               787            HR Strategy   \n",
       "3        Avaveo               795   Knowledge Management   \n",
       "4  Shuffledrive               997  Hand-drawn Typography   \n",
       "\n",
       "                                          user_agent  \n",
       "0  \"Mozilla/5.0 (Macintosh; Intel Mac OS X 10_6_8...  \n",
       "1  \"Mozilla/5.0 (Windows; U; Windows NT 6.0; hu-H...  \n",
       "2  \"Mozilla/5.0 (Windows; U; Windows NT 6.1) Appl...  \n",
       "3  \"Mozilla/5.0 (Macintosh; Intel Mac OS X 10_6_2...  \n",
       "4  \"Mozilla/5.0 (X11; Linux i686) AppleWebKit/534...  "
      ]
     },
     "execution_count": 21,
     "metadata": {},
     "output_type": "execute_result"
    }
   ],
   "source": [
    "f_users = dataframe[(dataframe.gender=='Female')]\n",
    "f_users.toPandas().head(5)"
   ]
  },
  {
   "cell_type": "code",
   "execution_count": 22,
   "metadata": {},
   "outputs": [
    {
     "data": {
      "text/html": [
       "<div>\n",
       "<table border=\"1\" class=\"dataframe\">\n",
       "  <thead>\n",
       "    <tr style=\"text-align: right;\">\n",
       "      <th></th>\n",
       "      <th>email</th>\n",
       "      <th>email_origin</th>\n",
       "    </tr>\n",
       "  </thead>\n",
       "  <tbody>\n",
       "    <tr>\n",
       "      <th>0</th>\n",
       "      <td>agibbetts0@live.com</td>\n",
       "      <td>[agibbetts0, live.com]</td>\n",
       "    </tr>\n",
       "    <tr>\n",
       "      <th>1</th>\n",
       "      <td>wruf5@independent.co.uk</td>\n",
       "      <td>[wruf5, independent.co.uk]</td>\n",
       "    </tr>\n",
       "  </tbody>\n",
       "</table>\n",
       "</div>"
      ],
      "text/plain": [
       "                     email                email_origin\n",
       "0      agibbetts0@live.com      [agibbetts0, live.com]\n",
       "1  wruf5@independent.co.uk  [wruf5, independent.co.uk]"
      ]
     },
     "execution_count": 22,
     "metadata": {},
     "output_type": "execute_result"
    }
   ],
   "source": [
    "email_female = f_users.select(\"email\",f.split(\"email\",\"@\").alias(\"email_origin\"))\n",
    "email_female.toPandas().head(2)"
   ]
  },
  {
   "cell_type": "code",
   "execution_count": 23,
   "metadata": {},
   "outputs": [
    {
     "data": {
      "text/html": [
       "<div>\n",
       "<table border=\"1\" class=\"dataframe\">\n",
       "  <thead>\n",
       "    <tr style=\"text-align: right;\">\n",
       "      <th></th>\n",
       "      <th>email</th>\n",
       "      <th>email_operator</th>\n",
       "    </tr>\n",
       "  </thead>\n",
       "  <tbody>\n",
       "    <tr>\n",
       "      <th>0</th>\n",
       "      <td>agibbetts0@live.com</td>\n",
       "      <td>live.com</td>\n",
       "    </tr>\n",
       "    <tr>\n",
       "      <th>1</th>\n",
       "      <td>wruf5@independent.co.uk</td>\n",
       "      <td>independent.co.uk</td>\n",
       "    </tr>\n",
       "    <tr>\n",
       "      <th>2</th>\n",
       "      <td>ddacey6@unc.edu</td>\n",
       "      <td>unc.edu</td>\n",
       "    </tr>\n",
       "    <tr>\n",
       "      <th>3</th>\n",
       "      <td>kcalow8@ezinearticles.com</td>\n",
       "      <td>ezinearticles.com</td>\n",
       "    </tr>\n",
       "    <tr>\n",
       "      <th>4</th>\n",
       "      <td>dgrunwald9@si.edu</td>\n",
       "      <td>si.edu</td>\n",
       "    </tr>\n",
       "  </tbody>\n",
       "</table>\n",
       "</div>"
      ],
      "text/plain": [
       "                       email     email_operator\n",
       "0        agibbetts0@live.com           live.com\n",
       "1    wruf5@independent.co.uk  independent.co.uk\n",
       "2            ddacey6@unc.edu            unc.edu\n",
       "3  kcalow8@ezinearticles.com  ezinearticles.com\n",
       "4          dgrunwald9@si.edu             si.edu"
      ]
     },
     "execution_count": 23,
     "metadata": {},
     "output_type": "execute_result"
    }
   ],
   "source": [
    "email_operator = email_female.select(email_female.email.alias(\"email\"), email_female.email_origin[1].alias(\"email_operator\"))\n",
    "email_operator.toPandas().head(5)"
   ]
  },
  {
   "cell_type": "code",
   "execution_count": 24,
   "metadata": {},
   "outputs": [
    {
     "data": {
      "text/html": [
       "<div>\n",
       "<table border=\"1\" class=\"dataframe\">\n",
       "  <thead>\n",
       "    <tr style=\"text-align: right;\">\n",
       "      <th></th>\n",
       "      <th>email_operator</th>\n",
       "      <th>email_count</th>\n",
       "    </tr>\n",
       "  </thead>\n",
       "  <tbody>\n",
       "    <tr>\n",
       "      <th>0</th>\n",
       "      <td>github.io</td>\n",
       "      <td>9</td>\n",
       "    </tr>\n",
       "    <tr>\n",
       "      <th>1</th>\n",
       "      <td>princeton.edu</td>\n",
       "      <td>8</td>\n",
       "    </tr>\n",
       "    <tr>\n",
       "      <th>2</th>\n",
       "      <td>wunderground.com</td>\n",
       "      <td>8</td>\n",
       "    </tr>\n",
       "    <tr>\n",
       "      <th>3</th>\n",
       "      <td>slate.com</td>\n",
       "      <td>8</td>\n",
       "    </tr>\n",
       "    <tr>\n",
       "      <th>4</th>\n",
       "      <td>moonfruit.com</td>\n",
       "      <td>8</td>\n",
       "    </tr>\n",
       "    <tr>\n",
       "      <th>5</th>\n",
       "      <td>soundcloud.com</td>\n",
       "      <td>7</td>\n",
       "    </tr>\n",
       "    <tr>\n",
       "      <th>6</th>\n",
       "      <td>simplemachines.org</td>\n",
       "      <td>7</td>\n",
       "    </tr>\n",
       "    <tr>\n",
       "      <th>7</th>\n",
       "      <td>ed.gov</td>\n",
       "      <td>7</td>\n",
       "    </tr>\n",
       "    <tr>\n",
       "      <th>8</th>\n",
       "      <td>hexun.com</td>\n",
       "      <td>7</td>\n",
       "    </tr>\n",
       "    <tr>\n",
       "      <th>9</th>\n",
       "      <td>state.gov</td>\n",
       "      <td>7</td>\n",
       "    </tr>\n",
       "  </tbody>\n",
       "</table>\n",
       "</div>"
      ],
      "text/plain": [
       "       email_operator  email_count\n",
       "0           github.io            9\n",
       "1       princeton.edu            8\n",
       "2    wunderground.com            8\n",
       "3           slate.com            8\n",
       "4       moonfruit.com            8\n",
       "5      soundcloud.com            7\n",
       "6  simplemachines.org            7\n",
       "7              ed.gov            7\n",
       "8           hexun.com            7\n",
       "9           state.gov            7"
      ]
     },
     "execution_count": 24,
     "metadata": {},
     "output_type": "execute_result"
    }
   ],
   "source": [
    "email_count = email_operator.groupBy(email_operator.email_operator)\\\n",
    "                                    .agg(f.count(email_operator.email_operator)\\\n",
    "                                    .alias(\"email_count\"))\\\n",
    "                                    .orderBy(\"email_count\", ascending=False)\n",
    "        \n",
    "email_count.toPandas().head(10)"
   ]
  },
  {
   "cell_type": "markdown",
   "metadata": {
    "id": "izC8vWsbm_3q"
   },
   "source": [
    "# Query 6 : \n",
    "\n",
    "Select top 5 companies that have the greatest gender balance in this user activity table\n",
    "\n",
    "* If same companies have equal gender balance => sort by lexicographic company name order\n",
    "* Gender balance definition : \n",
    "    * The absolute difference between the number of male users and female users\n",
    "    * Same number of males and females means maximum gender balance\n"
   ]
  },
  {
   "cell_type": "code",
   "execution_count": 25,
   "metadata": {
    "id": "eyoeYXS2m_3r"
   },
   "outputs": [
    {
     "data": {
      "text/html": [
       "<div>\n",
       "<table border=\"1\" class=\"dataframe\">\n",
       "  <thead>\n",
       "    <tr style=\"text-align: right;\">\n",
       "      <th></th>\n",
       "      <th>company_name</th>\n",
       "      <th>gender</th>\n",
       "      <th>Col</th>\n",
       "    </tr>\n",
       "  </thead>\n",
       "  <tbody>\n",
       "    <tr>\n",
       "      <th>0</th>\n",
       "      <td>Brainlounge</td>\n",
       "      <td>Female</td>\n",
       "      <td>1</td>\n",
       "    </tr>\n",
       "    <tr>\n",
       "      <th>1</th>\n",
       "      <td>Mydo</td>\n",
       "      <td>Male</td>\n",
       "      <td>0</td>\n",
       "    </tr>\n",
       "    <tr>\n",
       "      <th>2</th>\n",
       "      <td>Agivu</td>\n",
       "      <td>Male</td>\n",
       "      <td>0</td>\n",
       "    </tr>\n",
       "    <tr>\n",
       "      <th>3</th>\n",
       "      <td>Chatterbridge</td>\n",
       "      <td>Male</td>\n",
       "      <td>0</td>\n",
       "    </tr>\n",
       "    <tr>\n",
       "      <th>4</th>\n",
       "      <td>Zoomlounge</td>\n",
       "      <td>Male</td>\n",
       "      <td>0</td>\n",
       "    </tr>\n",
       "  </tbody>\n",
       "</table>\n",
       "</div>"
      ],
      "text/plain": [
       "    company_name  gender  Col\n",
       "0    Brainlounge  Female    1\n",
       "1           Mydo    Male    0\n",
       "2          Agivu    Male    0\n",
       "3  Chatterbridge    Male    0\n",
       "4     Zoomlounge    Male    0"
      ]
     },
     "execution_count": 25,
     "metadata": {},
     "output_type": "execute_result"
    }
   ],
   "source": [
    "dataframe_q6 = dataframe.select(dataframe.company_name, dataframe.gender,  \n",
    "                         f.when(dataframe.gender.like('Female'), 1)\\\n",
    "                          .when(dataframe.gender.like('Male'), 0)\\\n",
    "                          .otherwise(-1) \\\n",
    "                          .alias(\"Col\")\n",
    "                        )\n",
    "\n",
    "dataframe_q6.toPandas().head(5)"
   ]
  },
  {
   "cell_type": "code",
   "execution_count": 28,
   "metadata": {},
   "outputs": [
    {
     "data": {
      "text/html": [
       "<div>\n",
       "<table border=\"1\" class=\"dataframe\">\n",
       "  <thead>\n",
       "    <tr style=\"text-align: right;\">\n",
       "      <th></th>\n",
       "      <th>company_name</th>\n",
       "      <th>gender</th>\n",
       "      <th>gender_count</th>\n",
       "    </tr>\n",
       "  </thead>\n",
       "  <tbody>\n",
       "    <tr>\n",
       "      <th>0</th>\n",
       "      <td>Zoozzy</td>\n",
       "      <td>Female</td>\n",
       "      <td>2</td>\n",
       "    </tr>\n",
       "    <tr>\n",
       "      <th>1</th>\n",
       "      <td>Zoozzy</td>\n",
       "      <td>Male</td>\n",
       "      <td>2</td>\n",
       "    </tr>\n",
       "    <tr>\n",
       "      <th>2</th>\n",
       "      <td>Zooxo</td>\n",
       "      <td>Male</td>\n",
       "      <td>2</td>\n",
       "    </tr>\n",
       "    <tr>\n",
       "      <th>3</th>\n",
       "      <td>Zooxo</td>\n",
       "      <td>Female</td>\n",
       "      <td>5</td>\n",
       "    </tr>\n",
       "    <tr>\n",
       "      <th>4</th>\n",
       "      <td>Zoovu</td>\n",
       "      <td>Male</td>\n",
       "      <td>2</td>\n",
       "    </tr>\n",
       "    <tr>\n",
       "      <th>5</th>\n",
       "      <td>Zoovu</td>\n",
       "      <td>Female</td>\n",
       "      <td>4</td>\n",
       "    </tr>\n",
       "    <tr>\n",
       "      <th>6</th>\n",
       "      <td>Zooveo</td>\n",
       "      <td>Female</td>\n",
       "      <td>4</td>\n",
       "    </tr>\n",
       "    <tr>\n",
       "      <th>7</th>\n",
       "      <td>Zooveo</td>\n",
       "      <td>Male</td>\n",
       "      <td>4</td>\n",
       "    </tr>\n",
       "    <tr>\n",
       "      <th>8</th>\n",
       "      <td>Zoonoodle</td>\n",
       "      <td>Male</td>\n",
       "      <td>3</td>\n",
       "    </tr>\n",
       "    <tr>\n",
       "      <th>9</th>\n",
       "      <td>Zoonoodle</td>\n",
       "      <td>Female</td>\n",
       "      <td>3</td>\n",
       "    </tr>\n",
       "    <tr>\n",
       "      <th>10</th>\n",
       "      <td>Zoonder</td>\n",
       "      <td>Female</td>\n",
       "      <td>4</td>\n",
       "    </tr>\n",
       "    <tr>\n",
       "      <th>11</th>\n",
       "      <td>Zoonder</td>\n",
       "      <td>Male</td>\n",
       "      <td>2</td>\n",
       "    </tr>\n",
       "    <tr>\n",
       "      <th>12</th>\n",
       "      <td>Zoomzone</td>\n",
       "      <td>Male</td>\n",
       "      <td>4</td>\n",
       "    </tr>\n",
       "    <tr>\n",
       "      <th>13</th>\n",
       "      <td>Zoomzone</td>\n",
       "      <td>Female</td>\n",
       "      <td>7</td>\n",
       "    </tr>\n",
       "    <tr>\n",
       "      <th>14</th>\n",
       "      <td>Zoomlounge</td>\n",
       "      <td>Female</td>\n",
       "      <td>6</td>\n",
       "    </tr>\n",
       "    <tr>\n",
       "      <th>15</th>\n",
       "      <td>Zoomlounge</td>\n",
       "      <td>Male</td>\n",
       "      <td>6</td>\n",
       "    </tr>\n",
       "    <tr>\n",
       "      <th>16</th>\n",
       "      <td>Zoomdog</td>\n",
       "      <td>Male</td>\n",
       "      <td>5</td>\n",
       "    </tr>\n",
       "    <tr>\n",
       "      <th>17</th>\n",
       "      <td>Zoomdog</td>\n",
       "      <td>Female</td>\n",
       "      <td>4</td>\n",
       "    </tr>\n",
       "    <tr>\n",
       "      <th>18</th>\n",
       "      <td>Zoomcast</td>\n",
       "      <td>Male</td>\n",
       "      <td>4</td>\n",
       "    </tr>\n",
       "    <tr>\n",
       "      <th>19</th>\n",
       "      <td>Zoomcast</td>\n",
       "      <td>Female</td>\n",
       "      <td>2</td>\n",
       "    </tr>\n",
       "    <tr>\n",
       "      <th>20</th>\n",
       "      <td>Zoombox</td>\n",
       "      <td>Female</td>\n",
       "      <td>5</td>\n",
       "    </tr>\n",
       "    <tr>\n",
       "      <th>21</th>\n",
       "      <td>Zoombox</td>\n",
       "      <td>Male</td>\n",
       "      <td>6</td>\n",
       "    </tr>\n",
       "    <tr>\n",
       "      <th>22</th>\n",
       "      <td>Zoombeat</td>\n",
       "      <td>Female</td>\n",
       "      <td>2</td>\n",
       "    </tr>\n",
       "    <tr>\n",
       "      <th>23</th>\n",
       "      <td>Zoombeat</td>\n",
       "      <td>Male</td>\n",
       "      <td>4</td>\n",
       "    </tr>\n",
       "    <tr>\n",
       "      <th>24</th>\n",
       "      <td>Zazio</td>\n",
       "      <td>Female</td>\n",
       "      <td>2</td>\n",
       "    </tr>\n",
       "    <tr>\n",
       "      <th>25</th>\n",
       "      <td>Zazio</td>\n",
       "      <td>Male</td>\n",
       "      <td>2</td>\n",
       "    </tr>\n",
       "    <tr>\n",
       "      <th>26</th>\n",
       "      <td>Zava</td>\n",
       "      <td>Male</td>\n",
       "      <td>3</td>\n",
       "    </tr>\n",
       "    <tr>\n",
       "      <th>27</th>\n",
       "      <td>Zava</td>\n",
       "      <td>Female</td>\n",
       "      <td>7</td>\n",
       "    </tr>\n",
       "    <tr>\n",
       "      <th>28</th>\n",
       "      <td>Yozio</td>\n",
       "      <td>Male</td>\n",
       "      <td>4</td>\n",
       "    </tr>\n",
       "    <tr>\n",
       "      <th>29</th>\n",
       "      <td>Yozio</td>\n",
       "      <td>Female</td>\n",
       "      <td>2</td>\n",
       "    </tr>\n",
       "    <tr>\n",
       "      <th>...</th>\n",
       "      <td>...</td>\n",
       "      <td>...</td>\n",
       "      <td>...</td>\n",
       "    </tr>\n",
       "    <tr>\n",
       "      <th>722</th>\n",
       "      <td>Babbleblab</td>\n",
       "      <td>Female</td>\n",
       "      <td>3</td>\n",
       "    </tr>\n",
       "    <tr>\n",
       "      <th>723</th>\n",
       "      <td>Babbleblab</td>\n",
       "      <td>Male</td>\n",
       "      <td>4</td>\n",
       "    </tr>\n",
       "    <tr>\n",
       "      <th>724</th>\n",
       "      <td>Avaveo</td>\n",
       "      <td>Male</td>\n",
       "      <td>5</td>\n",
       "    </tr>\n",
       "    <tr>\n",
       "      <th>725</th>\n",
       "      <td>Avaveo</td>\n",
       "      <td>Female</td>\n",
       "      <td>5</td>\n",
       "    </tr>\n",
       "    <tr>\n",
       "      <th>726</th>\n",
       "      <td>Avavee</td>\n",
       "      <td>Male</td>\n",
       "      <td>5</td>\n",
       "    </tr>\n",
       "    <tr>\n",
       "      <th>727</th>\n",
       "      <td>Avavee</td>\n",
       "      <td>Female</td>\n",
       "      <td>4</td>\n",
       "    </tr>\n",
       "    <tr>\n",
       "      <th>728</th>\n",
       "      <td>Avamm</td>\n",
       "      <td>Female</td>\n",
       "      <td>6</td>\n",
       "    </tr>\n",
       "    <tr>\n",
       "      <th>729</th>\n",
       "      <td>Avamm</td>\n",
       "      <td>Male</td>\n",
       "      <td>3</td>\n",
       "    </tr>\n",
       "    <tr>\n",
       "      <th>730</th>\n",
       "      <td>Avamba</td>\n",
       "      <td>Male</td>\n",
       "      <td>5</td>\n",
       "    </tr>\n",
       "    <tr>\n",
       "      <th>731</th>\n",
       "      <td>Avamba</td>\n",
       "      <td>Female</td>\n",
       "      <td>3</td>\n",
       "    </tr>\n",
       "    <tr>\n",
       "      <th>732</th>\n",
       "      <td>Aivee</td>\n",
       "      <td>Female</td>\n",
       "      <td>3</td>\n",
       "    </tr>\n",
       "    <tr>\n",
       "      <th>733</th>\n",
       "      <td>Aivee</td>\n",
       "      <td>Male</td>\n",
       "      <td>8</td>\n",
       "    </tr>\n",
       "    <tr>\n",
       "      <th>734</th>\n",
       "      <td>Ainyx</td>\n",
       "      <td>Female</td>\n",
       "      <td>4</td>\n",
       "    </tr>\n",
       "    <tr>\n",
       "      <th>735</th>\n",
       "      <td>Ainyx</td>\n",
       "      <td>Male</td>\n",
       "      <td>4</td>\n",
       "    </tr>\n",
       "    <tr>\n",
       "      <th>736</th>\n",
       "      <td>Aimbu</td>\n",
       "      <td>Male</td>\n",
       "      <td>3</td>\n",
       "    </tr>\n",
       "    <tr>\n",
       "      <th>737</th>\n",
       "      <td>Aimbu</td>\n",
       "      <td>Female</td>\n",
       "      <td>8</td>\n",
       "    </tr>\n",
       "    <tr>\n",
       "      <th>738</th>\n",
       "      <td>Aimbo</td>\n",
       "      <td>Male</td>\n",
       "      <td>3</td>\n",
       "    </tr>\n",
       "    <tr>\n",
       "      <th>739</th>\n",
       "      <td>Aimbo</td>\n",
       "      <td>Female</td>\n",
       "      <td>1</td>\n",
       "    </tr>\n",
       "    <tr>\n",
       "      <th>740</th>\n",
       "      <td>Ailane</td>\n",
       "      <td>Male</td>\n",
       "      <td>2</td>\n",
       "    </tr>\n",
       "    <tr>\n",
       "      <th>741</th>\n",
       "      <td>Ailane</td>\n",
       "      <td>Female</td>\n",
       "      <td>4</td>\n",
       "    </tr>\n",
       "    <tr>\n",
       "      <th>742</th>\n",
       "      <td>Aibox</td>\n",
       "      <td>Male</td>\n",
       "      <td>2</td>\n",
       "    </tr>\n",
       "    <tr>\n",
       "      <th>743</th>\n",
       "      <td>Aibox</td>\n",
       "      <td>Female</td>\n",
       "      <td>2</td>\n",
       "    </tr>\n",
       "    <tr>\n",
       "      <th>744</th>\n",
       "      <td>Agivu</td>\n",
       "      <td>Male</td>\n",
       "      <td>4</td>\n",
       "    </tr>\n",
       "    <tr>\n",
       "      <th>745</th>\n",
       "      <td>Agivu</td>\n",
       "      <td>Female</td>\n",
       "      <td>3</td>\n",
       "    </tr>\n",
       "    <tr>\n",
       "      <th>746</th>\n",
       "      <td>Agimba</td>\n",
       "      <td>Female</td>\n",
       "      <td>7</td>\n",
       "    </tr>\n",
       "    <tr>\n",
       "      <th>747</th>\n",
       "      <td>Agimba</td>\n",
       "      <td>Male</td>\n",
       "      <td>2</td>\n",
       "    </tr>\n",
       "    <tr>\n",
       "      <th>748</th>\n",
       "      <td>Abatz</td>\n",
       "      <td>Male</td>\n",
       "      <td>2</td>\n",
       "    </tr>\n",
       "    <tr>\n",
       "      <th>749</th>\n",
       "      <td>Abatz</td>\n",
       "      <td>Female</td>\n",
       "      <td>3</td>\n",
       "    </tr>\n",
       "    <tr>\n",
       "      <th>750</th>\n",
       "      <td>Abata</td>\n",
       "      <td>Female</td>\n",
       "      <td>5</td>\n",
       "    </tr>\n",
       "    <tr>\n",
       "      <th>751</th>\n",
       "      <td>Abata</td>\n",
       "      <td>Male</td>\n",
       "      <td>3</td>\n",
       "    </tr>\n",
       "  </tbody>\n",
       "</table>\n",
       "<p>752 rows × 3 columns</p>\n",
       "</div>"
      ],
      "text/plain": [
       "    company_name  gender  gender_count\n",
       "0         Zoozzy  Female             2\n",
       "1         Zoozzy    Male             2\n",
       "2          Zooxo    Male             2\n",
       "3          Zooxo  Female             5\n",
       "4          Zoovu    Male             2\n",
       "5          Zoovu  Female             4\n",
       "6         Zooveo  Female             4\n",
       "7         Zooveo    Male             4\n",
       "8      Zoonoodle    Male             3\n",
       "9      Zoonoodle  Female             3\n",
       "10       Zoonder  Female             4\n",
       "11       Zoonder    Male             2\n",
       "12      Zoomzone    Male             4\n",
       "13      Zoomzone  Female             7\n",
       "14    Zoomlounge  Female             6\n",
       "15    Zoomlounge    Male             6\n",
       "16       Zoomdog    Male             5\n",
       "17       Zoomdog  Female             4\n",
       "18      Zoomcast    Male             4\n",
       "19      Zoomcast  Female             2\n",
       "20       Zoombox  Female             5\n",
       "21       Zoombox    Male             6\n",
       "22      Zoombeat  Female             2\n",
       "23      Zoombeat    Male             4\n",
       "24         Zazio  Female             2\n",
       "25         Zazio    Male             2\n",
       "26          Zava    Male             3\n",
       "27          Zava  Female             7\n",
       "28         Yozio    Male             4\n",
       "29         Yozio  Female             2\n",
       "..           ...     ...           ...\n",
       "722   Babbleblab  Female             3\n",
       "723   Babbleblab    Male             4\n",
       "724       Avaveo    Male             5\n",
       "725       Avaveo  Female             5\n",
       "726       Avavee    Male             5\n",
       "727       Avavee  Female             4\n",
       "728        Avamm  Female             6\n",
       "729        Avamm    Male             3\n",
       "730       Avamba    Male             5\n",
       "731       Avamba  Female             3\n",
       "732        Aivee  Female             3\n",
       "733        Aivee    Male             8\n",
       "734        Ainyx  Female             4\n",
       "735        Ainyx    Male             4\n",
       "736        Aimbu    Male             3\n",
       "737        Aimbu  Female             8\n",
       "738        Aimbo    Male             3\n",
       "739        Aimbo  Female             1\n",
       "740       Ailane    Male             2\n",
       "741       Ailane  Female             4\n",
       "742        Aibox    Male             2\n",
       "743        Aibox  Female             2\n",
       "744        Agivu    Male             4\n",
       "745        Agivu  Female             3\n",
       "746       Agimba  Female             7\n",
       "747       Agimba    Male             2\n",
       "748        Abatz    Male             2\n",
       "749        Abatz  Female             3\n",
       "750        Abata  Female             5\n",
       "751        Abata    Male             3\n",
       "\n",
       "[752 rows x 3 columns]"
      ]
     },
     "execution_count": 28,
     "metadata": {},
     "output_type": "execute_result"
    }
   ],
   "source": [
    "total_by_gender = dataframe_q6.groupby(dataframe_q6.company_name, dataframe_q6.gender)\\\n",
    "                                .agg(f.count(dataframe_q6.Col)\\\n",
    "                                .alias(\"gender_count\"))\\\n",
    "                                .orderBy(\"company_name\", ascending=False).toPandas()\n",
    "total_by_gender"
   ]
  },
  {
   "cell_type": "code",
   "execution_count": 29,
   "metadata": {},
   "outputs": [],
   "source": [
    "gender_difference = [0]\n",
    "\n",
    "for i in range(len(total_by_gender)-1):\n",
    "    a_company_name = total_by_gender['company_name'][i] \n",
    "    a_gender = total_by_gender['gender'][i] \n",
    "    a_gender_count = total_by_gender['gender_count'][i]\n",
    "    \n",
    "    i = i + 1\n",
    "    \n",
    "    b_company_name = total_by_gender['company_name'][i] \n",
    "    b_gender = total_by_gender['gender'][i] \n",
    "    b_gender_count = total_by_gender['gender_count'][i] \n",
    "    \n",
    "    if a_company_name == b_company_name:\n",
    "        gender_difference.append(a_gender_count - b_gender_count)\n",
    "    else:\n",
    "        gender_difference.append(200)"
   ]
  },
  {
   "cell_type": "code",
   "execution_count": 30,
   "metadata": {},
   "outputs": [],
   "source": [
    "total_by_gender['gender_difference'] = gender_difference"
   ]
  },
  {
   "cell_type": "code",
   "execution_count": 31,
   "metadata": {},
   "outputs": [
    {
     "data": {
      "text/html": [
       "<div>\n",
       "<table border=\"1\" class=\"dataframe\">\n",
       "  <thead>\n",
       "    <tr style=\"text-align: right;\">\n",
       "      <th></th>\n",
       "      <th>company_name</th>\n",
       "      <th>gender</th>\n",
       "      <th>gender_count</th>\n",
       "      <th>gender_difference</th>\n",
       "    </tr>\n",
       "  </thead>\n",
       "  <tbody>\n",
       "    <tr>\n",
       "      <th>0</th>\n",
       "      <td>Zoozzy</td>\n",
       "      <td>Female</td>\n",
       "      <td>2</td>\n",
       "      <td>0</td>\n",
       "    </tr>\n",
       "    <tr>\n",
       "      <th>1</th>\n",
       "      <td>Zoozzy</td>\n",
       "      <td>Male</td>\n",
       "      <td>2</td>\n",
       "      <td>0</td>\n",
       "    </tr>\n",
       "    <tr>\n",
       "      <th>2</th>\n",
       "      <td>Zooxo</td>\n",
       "      <td>Male</td>\n",
       "      <td>2</td>\n",
       "      <td>200</td>\n",
       "    </tr>\n",
       "    <tr>\n",
       "      <th>3</th>\n",
       "      <td>Zooxo</td>\n",
       "      <td>Female</td>\n",
       "      <td>5</td>\n",
       "      <td>-3</td>\n",
       "    </tr>\n",
       "    <tr>\n",
       "      <th>4</th>\n",
       "      <td>Zoovu</td>\n",
       "      <td>Male</td>\n",
       "      <td>2</td>\n",
       "      <td>200</td>\n",
       "    </tr>\n",
       "    <tr>\n",
       "      <th>5</th>\n",
       "      <td>Zoovu</td>\n",
       "      <td>Female</td>\n",
       "      <td>4</td>\n",
       "      <td>-2</td>\n",
       "    </tr>\n",
       "    <tr>\n",
       "      <th>6</th>\n",
       "      <td>Zooveo</td>\n",
       "      <td>Female</td>\n",
       "      <td>4</td>\n",
       "      <td>200</td>\n",
       "    </tr>\n",
       "    <tr>\n",
       "      <th>7</th>\n",
       "      <td>Zooveo</td>\n",
       "      <td>Male</td>\n",
       "      <td>4</td>\n",
       "      <td>0</td>\n",
       "    </tr>\n",
       "    <tr>\n",
       "      <th>8</th>\n",
       "      <td>Zoonoodle</td>\n",
       "      <td>Male</td>\n",
       "      <td>3</td>\n",
       "      <td>200</td>\n",
       "    </tr>\n",
       "    <tr>\n",
       "      <th>9</th>\n",
       "      <td>Zoonoodle</td>\n",
       "      <td>Female</td>\n",
       "      <td>3</td>\n",
       "      <td>0</td>\n",
       "    </tr>\n",
       "  </tbody>\n",
       "</table>\n",
       "</div>"
      ],
      "text/plain": [
       "  company_name  gender  gender_count  gender_difference\n",
       "0       Zoozzy  Female             2                  0\n",
       "1       Zoozzy    Male             2                  0\n",
       "2        Zooxo    Male             2                200\n",
       "3        Zooxo  Female             5                 -3\n",
       "4        Zoovu    Male             2                200\n",
       "5        Zoovu  Female             4                 -2\n",
       "6       Zooveo  Female             4                200\n",
       "7       Zooveo    Male             4                  0\n",
       "8    Zoonoodle    Male             3                200\n",
       "9    Zoonoodle  Female             3                  0"
      ]
     },
     "execution_count": 31,
     "metadata": {},
     "output_type": "execute_result"
    }
   ],
   "source": [
    "total_by_gender.head(10)"
   ]
  },
  {
   "cell_type": "code",
   "execution_count": 32,
   "metadata": {},
   "outputs": [
    {
     "name": "stdout",
     "output_type": "stream",
     "text": [
      "<class 'pandas.core.frame.DataFrame'>\n",
      "RangeIndex: 752 entries, 0 to 751\n",
      "Data columns (total 4 columns):\n",
      "company_name         752 non-null object\n",
      "gender               752 non-null object\n",
      "gender_count         752 non-null int64\n",
      "gender_difference    752 non-null int64\n",
      "dtypes: int64(2), object(2)\n",
      "memory usage: 23.6+ KB\n"
     ]
    }
   ],
   "source": [
    "total_by_gender.info()"
   ]
  },
  {
   "cell_type": "code",
   "execution_count": 33,
   "metadata": {},
   "outputs": [],
   "source": [
    "filter1 = total_by_gender.where(total_by_gender.gender_difference<200)"
   ]
  },
  {
   "cell_type": "code",
   "execution_count": 35,
   "metadata": {},
   "outputs": [],
   "source": [
    "filter2 = filter1.dropna()"
   ]
  },
  {
   "cell_type": "code",
   "execution_count": 36,
   "metadata": {},
   "outputs": [],
   "source": [
    "dataframe_gender_difference = filter2.tail(-1)"
   ]
  },
  {
   "cell_type": "code",
   "execution_count": 37,
   "metadata": {},
   "outputs": [
    {
     "data": {
      "text/html": [
       "<div>\n",
       "<table border=\"1\" class=\"dataframe\">\n",
       "  <thead>\n",
       "    <tr style=\"text-align: right;\">\n",
       "      <th></th>\n",
       "      <th>company_name</th>\n",
       "      <th>gender</th>\n",
       "      <th>gender_count</th>\n",
       "      <th>gender_difference</th>\n",
       "    </tr>\n",
       "  </thead>\n",
       "  <tbody>\n",
       "    <tr>\n",
       "      <th>1</th>\n",
       "      <td>Zoozzy</td>\n",
       "      <td>Male</td>\n",
       "      <td>2.0</td>\n",
       "      <td>0.0</td>\n",
       "    </tr>\n",
       "    <tr>\n",
       "      <th>3</th>\n",
       "      <td>Zooxo</td>\n",
       "      <td>Female</td>\n",
       "      <td>5.0</td>\n",
       "      <td>-3.0</td>\n",
       "    </tr>\n",
       "    <tr>\n",
       "      <th>5</th>\n",
       "      <td>Zoovu</td>\n",
       "      <td>Female</td>\n",
       "      <td>4.0</td>\n",
       "      <td>-2.0</td>\n",
       "    </tr>\n",
       "    <tr>\n",
       "      <th>7</th>\n",
       "      <td>Zooveo</td>\n",
       "      <td>Male</td>\n",
       "      <td>4.0</td>\n",
       "      <td>0.0</td>\n",
       "    </tr>\n",
       "    <tr>\n",
       "      <th>9</th>\n",
       "      <td>Zoonoodle</td>\n",
       "      <td>Female</td>\n",
       "      <td>3.0</td>\n",
       "      <td>0.0</td>\n",
       "    </tr>\n",
       "  </tbody>\n",
       "</table>\n",
       "</div>"
      ],
      "text/plain": [
       "  company_name  gender  gender_count  gender_difference\n",
       "1       Zoozzy    Male           2.0                0.0\n",
       "3        Zooxo  Female           5.0               -3.0\n",
       "5        Zoovu  Female           4.0               -2.0\n",
       "7       Zooveo    Male           4.0                0.0\n",
       "9    Zoonoodle  Female           3.0                0.0"
      ]
     },
     "execution_count": 37,
     "metadata": {},
     "output_type": "execute_result"
    }
   ],
   "source": [
    "dataframe_gender_difference.head(5)"
   ]
  },
  {
   "cell_type": "code",
   "execution_count": 38,
   "metadata": {},
   "outputs": [
    {
     "data": {
      "text/html": [
       "<div>\n",
       "<table border=\"1\" class=\"dataframe\">\n",
       "  <thead>\n",
       "    <tr style=\"text-align: right;\">\n",
       "      <th></th>\n",
       "      <th>company_name</th>\n",
       "      <th>gender_difference</th>\n",
       "    </tr>\n",
       "  </thead>\n",
       "  <tbody>\n",
       "    <tr>\n",
       "      <th>1</th>\n",
       "      <td>Zoozzy</td>\n",
       "      <td>0.0</td>\n",
       "    </tr>\n",
       "    <tr>\n",
       "      <th>3</th>\n",
       "      <td>Zooxo</td>\n",
       "      <td>-3.0</td>\n",
       "    </tr>\n",
       "    <tr>\n",
       "      <th>5</th>\n",
       "      <td>Zoovu</td>\n",
       "      <td>-2.0</td>\n",
       "    </tr>\n",
       "    <tr>\n",
       "      <th>7</th>\n",
       "      <td>Zooveo</td>\n",
       "      <td>0.0</td>\n",
       "    </tr>\n",
       "    <tr>\n",
       "      <th>9</th>\n",
       "      <td>Zoonoodle</td>\n",
       "      <td>0.0</td>\n",
       "    </tr>\n",
       "  </tbody>\n",
       "</table>\n",
       "</div>"
      ],
      "text/plain": [
       "  company_name  gender_difference\n",
       "1       Zoozzy                0.0\n",
       "3        Zooxo               -3.0\n",
       "5        Zoovu               -2.0\n",
       "7       Zooveo                0.0\n",
       "9    Zoonoodle                0.0"
      ]
     },
     "execution_count": 38,
     "metadata": {},
     "output_type": "execute_result"
    }
   ],
   "source": [
    "dataframe_gender_difference2 = dataframe_gender_difference[['company_name', 'gender_difference']]\n",
    "dataframe_gender_difference2.head(5)"
   ]
  },
  {
   "cell_type": "markdown",
   "metadata": {
    "id": "ANaH0ZoQm_3t"
   },
   "source": [
    "# Query 7: \n",
    "Display user first name, user last name where user activity ip address start with '45'\n",
    "\n",
    "* Example of such ip address : 45.24.32.74"
   ]
  },
  {
   "cell_type": "code",
   "execution_count": 39,
   "metadata": {
    "id": "VmLEtvp4m_3t"
   },
   "outputs": [
    {
     "data": {
      "text/html": [
       "<div>\n",
       "<table border=\"1\" class=\"dataframe\">\n",
       "  <thead>\n",
       "    <tr style=\"text-align: right;\">\n",
       "      <th></th>\n",
       "      <th>first_name</th>\n",
       "      <th>last_name</th>\n",
       "      <th>email</th>\n",
       "      <th>gender</th>\n",
       "      <th>ip_adress</th>\n",
       "      <th>company_name</th>\n",
       "      <th>purchase_ammount</th>\n",
       "      <th>job_title</th>\n",
       "      <th>user_agent</th>\n",
       "    </tr>\n",
       "  </thead>\n",
       "  <tbody>\n",
       "    <tr>\n",
       "      <th>0</th>\n",
       "      <td>Amandi</td>\n",
       "      <td>Gibbetts</td>\n",
       "      <td>agibbetts0@live.com</td>\n",
       "      <td>Female</td>\n",
       "      <td>39.231.192.239</td>\n",
       "      <td>Brainlounge</td>\n",
       "      <td>81</td>\n",
       "      <td>JCR</td>\n",
       "      <td>\"Mozilla/5.0 (Macintosh; Intel Mac OS X 10_6_8...</td>\n",
       "    </tr>\n",
       "    <tr>\n",
       "      <th>1</th>\n",
       "      <td>Mathew</td>\n",
       "      <td>Michin</td>\n",
       "      <td>mmichin1@bloglovin.com</td>\n",
       "      <td>Male</td>\n",
       "      <td>115.35.31.40</td>\n",
       "      <td>Mydo</td>\n",
       "      <td>789</td>\n",
       "      <td>Dell KACE</td>\n",
       "      <td>\"Mozilla/5.0 (Macintosh; U; PPC Mac OS X 10_5_...</td>\n",
       "    </tr>\n",
       "    <tr>\n",
       "      <th>2</th>\n",
       "      <td>Omero</td>\n",
       "      <td>Petrina</td>\n",
       "      <td>opetrina2@ycombinator.com</td>\n",
       "      <td>Male</td>\n",
       "      <td>42.43.198.154</td>\n",
       "      <td>Agivu</td>\n",
       "      <td>703</td>\n",
       "      <td>HP Service Manager</td>\n",
       "      <td>\"Mozilla/5.0 (X11; Linux i686) AppleWebKit/535...</td>\n",
       "    </tr>\n",
       "    <tr>\n",
       "      <th>3</th>\n",
       "      <td>Clevey</td>\n",
       "      <td>Jesse</td>\n",
       "      <td>cjesse3@reverbnation.com</td>\n",
       "      <td>Male</td>\n",
       "      <td>99.233.153.203</td>\n",
       "      <td>Chatterbridge</td>\n",
       "      <td>740</td>\n",
       "      <td>Bioinformatics</td>\n",
       "      <td>\"Mozilla/5.0 (Windows NT 6.1; WOW64) AppleWebK...</td>\n",
       "    </tr>\n",
       "    <tr>\n",
       "      <th>4</th>\n",
       "      <td>Wit</td>\n",
       "      <td>Gent</td>\n",
       "      <td>wgent4@earthlink.net</td>\n",
       "      <td>Male</td>\n",
       "      <td>235.73.119.127</td>\n",
       "      <td>Zoomlounge</td>\n",
       "      <td>657</td>\n",
       "      <td>Procurement Outsourcing</td>\n",
       "      <td>\"Mozilla/5.0 (Windows NT 6.1) AppleWebKit/537....</td>\n",
       "    </tr>\n",
       "  </tbody>\n",
       "</table>\n",
       "</div>"
      ],
      "text/plain": [
       "  first_name last_name                      email  gender       ip_adress  \\\n",
       "0     Amandi  Gibbetts        agibbetts0@live.com  Female  39.231.192.239   \n",
       "1     Mathew    Michin     mmichin1@bloglovin.com    Male    115.35.31.40   \n",
       "2      Omero   Petrina  opetrina2@ycombinator.com    Male   42.43.198.154   \n",
       "3     Clevey     Jesse   cjesse3@reverbnation.com    Male  99.233.153.203   \n",
       "4        Wit      Gent       wgent4@earthlink.net    Male  235.73.119.127   \n",
       "\n",
       "    company_name  purchase_ammount                job_title  \\\n",
       "0    Brainlounge                81                      JCR   \n",
       "1           Mydo               789                Dell KACE   \n",
       "2          Agivu               703       HP Service Manager   \n",
       "3  Chatterbridge               740           Bioinformatics   \n",
       "4     Zoomlounge               657  Procurement Outsourcing   \n",
       "\n",
       "                                          user_agent  \n",
       "0  \"Mozilla/5.0 (Macintosh; Intel Mac OS X 10_6_8...  \n",
       "1  \"Mozilla/5.0 (Macintosh; U; PPC Mac OS X 10_5_...  \n",
       "2  \"Mozilla/5.0 (X11; Linux i686) AppleWebKit/535...  \n",
       "3  \"Mozilla/5.0 (Windows NT 6.1; WOW64) AppleWebK...  \n",
       "4  \"Mozilla/5.0 (Windows NT 6.1) AppleWebKit/537....  "
      ]
     },
     "execution_count": 39,
     "metadata": {},
     "output_type": "execute_result"
    }
   ],
   "source": [
    "dataframe.toPandas().head(5)"
   ]
  },
  {
   "cell_type": "code",
   "execution_count": 43,
   "metadata": {
    "id": "nHmUMHPLm_3v"
   },
   "outputs": [
    {
     "data": {
      "text/html": [
       "<div>\n",
       "<table border=\"1\" class=\"dataframe\">\n",
       "  <thead>\n",
       "    <tr style=\"text-align: right;\">\n",
       "      <th></th>\n",
       "      <th>first_name</th>\n",
       "      <th>last_name</th>\n",
       "      <th>ip_adress</th>\n",
       "    </tr>\n",
       "  </thead>\n",
       "  <tbody>\n",
       "    <tr>\n",
       "      <th>0</th>\n",
       "      <td>Gratia</td>\n",
       "      <td>Perrins</td>\n",
       "      <td>45.100.168.26</td>\n",
       "    </tr>\n",
       "    <tr>\n",
       "      <th>1</th>\n",
       "      <td>Abby</td>\n",
       "      <td>Parmley</td>\n",
       "      <td>45.56.224.25</td>\n",
       "    </tr>\n",
       "    <tr>\n",
       "      <th>2</th>\n",
       "      <td>Gamaliel</td>\n",
       "      <td>Leebetter</td>\n",
       "      <td>45.36.71.18</td>\n",
       "    </tr>\n",
       "    <tr>\n",
       "      <th>3</th>\n",
       "      <td>Darius</td>\n",
       "      <td>Rolance</td>\n",
       "      <td>45.192.34.19</td>\n",
       "    </tr>\n",
       "    <tr>\n",
       "      <th>4</th>\n",
       "      <td>Ajay</td>\n",
       "      <td>Dymick</td>\n",
       "      <td>45.24.0.223</td>\n",
       "    </tr>\n",
       "    <tr>\n",
       "      <th>5</th>\n",
       "      <td>Mark</td>\n",
       "      <td>Cacacie</td>\n",
       "      <td>45.130.81.219</td>\n",
       "    </tr>\n",
       "    <tr>\n",
       "      <th>6</th>\n",
       "      <td>Denna</td>\n",
       "      <td>McDade</td>\n",
       "      <td>45.196.113.234</td>\n",
       "    </tr>\n",
       "    <tr>\n",
       "      <th>7</th>\n",
       "      <td>Nariko</td>\n",
       "      <td>Bulward</td>\n",
       "      <td>45.248.129.231</td>\n",
       "    </tr>\n",
       "    <tr>\n",
       "      <th>8</th>\n",
       "      <td>Fanny</td>\n",
       "      <td>Bush</td>\n",
       "      <td>45.89.113.44</td>\n",
       "    </tr>\n",
       "    <tr>\n",
       "      <th>9</th>\n",
       "      <td>Janel</td>\n",
       "      <td>De Few</td>\n",
       "      <td>45.162.230.254</td>\n",
       "    </tr>\n",
       "  </tbody>\n",
       "</table>\n",
       "</div>"
      ],
      "text/plain": [
       "  first_name  last_name       ip_adress\n",
       "0     Gratia    Perrins   45.100.168.26\n",
       "1       Abby    Parmley    45.56.224.25\n",
       "2   Gamaliel  Leebetter     45.36.71.18\n",
       "3     Darius    Rolance    45.192.34.19\n",
       "4       Ajay     Dymick     45.24.0.223\n",
       "5       Mark    Cacacie   45.130.81.219\n",
       "6      Denna     McDade  45.196.113.234\n",
       "7     Nariko    Bulward  45.248.129.231\n",
       "8      Fanny       Bush    45.89.113.44\n",
       "9      Janel     De Few  45.162.230.254"
      ]
     },
     "execution_count": 43,
     "metadata": {},
     "output_type": "execute_result"
    }
   ],
   "source": [
    "dataframe_q7 = dataframe.filter(dataframe.ip_adress.startswith('45'))\\\n",
    ".select(dataframe.first_name, dataframe.last_name,dataframe.ip_adress).toPandas()\n",
    "dataframe_q7"
   ]
  },
  {
   "cell_type": "code",
   "execution_count": 44,
   "metadata": {},
   "outputs": [
    {
     "name": "stdout",
     "output_type": "stream",
     "text": [
      "<class 'pandas.core.frame.DataFrame'>\n",
      "RangeIndex: 10 entries, 0 to 9\n",
      "Data columns (total 3 columns):\n",
      "first_name    10 non-null object\n",
      "last_name     10 non-null object\n",
      "ip_adress     10 non-null object\n",
      "dtypes: object(3)\n",
      "memory usage: 320.0+ bytes\n"
     ]
    }
   ],
   "source": [
    "dataframe_q7.info()"
   ]
  },
  {
   "cell_type": "code",
   "execution_count": 45,
   "metadata": {},
   "outputs": [
    {
     "data": {
      "text/plain": [
       "first_name    object\n",
       "last_name     object\n",
       "ip_adress     object\n",
       "dtype: object"
      ]
     },
     "execution_count": 45,
     "metadata": {},
     "output_type": "execute_result"
    }
   ],
   "source": [
    "dataframe_q7.dtypes"
   ]
  },
  {
   "cell_type": "code",
   "execution_count": null,
   "metadata": {},
   "outputs": [],
   "source": []
  }
 ],
 "metadata": {
  "colab": {
   "collapsed_sections": [],
   "name": "Task2(Workshop).ipynb",
   "provenance": []
  },
  "kernelspec": {
   "display_name": "Python 3",
   "language": "python",
   "name": "python3"
  },
  "language_info": {
   "codemirror_mode": {
    "name": "ipython",
    "version": 3
   },
   "file_extension": ".py",
   "mimetype": "text/x-python",
   "name": "python",
   "nbconvert_exporter": "python",
   "pygments_lexer": "ipython3",
   "version": "3.6.2"
  }
 },
 "nbformat": 4,
 "nbformat_minor": 1
}
